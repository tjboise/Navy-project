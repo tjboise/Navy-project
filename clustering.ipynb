{
 "cells": [
  {
   "cell_type": "code",
   "execution_count": 1,
   "id": "e7ab4fee",
   "metadata": {},
   "outputs": [],
   "source": [
    "import pandas as pd\n",
    "import numpy as np\n",
    "from sklearn.cluster import KMeans\n",
    "import matplotlib.pyplot as plt"
   ]
  },
  {
   "cell_type": "code",
   "execution_count": 2,
   "id": "97bc893f",
   "metadata": {},
   "outputs": [],
   "source": [
    "data = pd.read_excel('output.xlsx')\n",
    "data\n",
    "features = data[['parimeter','area','circularity','aspect_ratio','convexity']]"
   ]
  },
  {
   "cell_type": "code",
   "execution_count": 3,
   "id": "dff0086b",
   "metadata": {},
   "outputs": [
    {
     "data": {
      "text/html": [
       "<div>\n",
       "<style scoped>\n",
       "    .dataframe tbody tr th:only-of-type {\n",
       "        vertical-align: middle;\n",
       "    }\n",
       "\n",
       "    .dataframe tbody tr th {\n",
       "        vertical-align: top;\n",
       "    }\n",
       "\n",
       "    .dataframe thead th {\n",
       "        text-align: right;\n",
       "    }\n",
       "</style>\n",
       "<table border=\"1\" class=\"dataframe\">\n",
       "  <thead>\n",
       "    <tr style=\"text-align: right;\">\n",
       "      <th></th>\n",
       "      <th>parimeter</th>\n",
       "      <th>area</th>\n",
       "      <th>circularity</th>\n",
       "      <th>aspect_ratio</th>\n",
       "      <th>convexity</th>\n",
       "    </tr>\n",
       "  </thead>\n",
       "  <tbody>\n",
       "    <tr>\n",
       "      <th>0</th>\n",
       "      <td>0.443617</td>\n",
       "      <td>-0.832718</td>\n",
       "      <td>-1.274185</td>\n",
       "      <td>-0.270846</td>\n",
       "      <td>-2.492002</td>\n",
       "    </tr>\n",
       "    <tr>\n",
       "      <th>1</th>\n",
       "      <td>-0.907738</td>\n",
       "      <td>-1.061117</td>\n",
       "      <td>-1.119288</td>\n",
       "      <td>-1.023401</td>\n",
       "      <td>-1.366789</td>\n",
       "    </tr>\n",
       "    <tr>\n",
       "      <th>2</th>\n",
       "      <td>1.596477</td>\n",
       "      <td>0.863925</td>\n",
       "      <td>0.061087</td>\n",
       "      <td>1.066585</td>\n",
       "      <td>0.033642</td>\n",
       "    </tr>\n",
       "    <tr>\n",
       "      <th>3</th>\n",
       "      <td>0.709486</td>\n",
       "      <td>0.981783</td>\n",
       "      <td>1.127111</td>\n",
       "      <td>0.903470</td>\n",
       "      <td>0.944568</td>\n",
       "    </tr>\n",
       "    <tr>\n",
       "      <th>4</th>\n",
       "      <td>-0.979417</td>\n",
       "      <td>-1.074770</td>\n",
       "      <td>-1.117901</td>\n",
       "      <td>-1.210184</td>\n",
       "      <td>-1.258330</td>\n",
       "    </tr>\n",
       "    <tr>\n",
       "      <th>5</th>\n",
       "      <td>0.821082</td>\n",
       "      <td>1.096296</td>\n",
       "      <td>1.127251</td>\n",
       "      <td>1.037692</td>\n",
       "      <td>0.912867</td>\n",
       "    </tr>\n",
       "    <tr>\n",
       "      <th>6</th>\n",
       "      <td>0.689292</td>\n",
       "      <td>0.926387</td>\n",
       "      <td>1.078635</td>\n",
       "      <td>0.920882</td>\n",
       "      <td>0.949801</td>\n",
       "    </tr>\n",
       "    <tr>\n",
       "      <th>7</th>\n",
       "      <td>-1.029038</td>\n",
       "      <td>-0.843934</td>\n",
       "      <td>-0.269666</td>\n",
       "      <td>-0.501371</td>\n",
       "      <td>0.095101</td>\n",
       "    </tr>\n",
       "    <tr>\n",
       "      <th>8</th>\n",
       "      <td>0.708715</td>\n",
       "      <td>1.078477</td>\n",
       "      <td>1.261041</td>\n",
       "      <td>1.002327</td>\n",
       "      <td>1.027812</td>\n",
       "    </tr>\n",
       "    <tr>\n",
       "      <th>9</th>\n",
       "      <td>-1.001375</td>\n",
       "      <td>-1.064744</td>\n",
       "      <td>-1.068497</td>\n",
       "      <td>-1.102664</td>\n",
       "      <td>-1.468517</td>\n",
       "    </tr>\n",
       "  </tbody>\n",
       "</table>\n",
       "</div>"
      ],
      "text/plain": [
       "   parimeter      area  circularity  aspect_ratio  convexity\n",
       "0   0.443617 -0.832718    -1.274185     -0.270846  -2.492002\n",
       "1  -0.907738 -1.061117    -1.119288     -1.023401  -1.366789\n",
       "2   1.596477  0.863925     0.061087      1.066585   0.033642\n",
       "3   0.709486  0.981783     1.127111      0.903470   0.944568\n",
       "4  -0.979417 -1.074770    -1.117901     -1.210184  -1.258330\n",
       "5   0.821082  1.096296     1.127251      1.037692   0.912867\n",
       "6   0.689292  0.926387     1.078635      0.920882   0.949801\n",
       "7  -1.029038 -0.843934    -0.269666     -0.501371   0.095101\n",
       "8   0.708715  1.078477     1.261041      1.002327   1.027812\n",
       "9  -1.001375 -1.064744    -1.068497     -1.102664  -1.468517"
      ]
     },
     "execution_count": 3,
     "metadata": {},
     "output_type": "execute_result"
    }
   ],
   "source": [
    "from sklearn import preprocessing\n",
    "feature_scaled = preprocessing.scale(features)\n",
    "feature_scaled = pd.DataFrame(feature_scaled,columns=['parimeter','area','circularity','aspect_ratio','convexity'])\n",
    "feature_scaled.head(10)"
   ]
  },
  {
   "cell_type": "code",
   "execution_count": 6,
   "id": "9ed4d17a",
   "metadata": {},
   "outputs": [
    {
     "data": {
      "text/plain": [
       "array([0, 0, 1, 1, 0, 1, 1, 2, 1, 0, 2, 1, 0, 2, 1, 1, 1, 0, 2, 1, 1, 0,\n",
       "       1, 1, 1, 0, 0, 1, 1, 1, 2, 1, 2, 0, 1, 2, 0, 1, 1, 1, 0, 0, 0, 0,\n",
       "       2, 1, 2, 2, 1, 0, 1, 1, 0, 1, 2, 0, 1, 0, 1, 0, 2, 0, 2, 2, 1, 1,\n",
       "       0, 0, 0, 1, 1, 2, 2, 1, 2, 2, 1, 1, 0, 0, 2, 1, 0, 1, 1, 1, 0, 0,\n",
       "       1, 1, 0, 0, 1, 2, 0, 1, 1, 1, 2, 2, 0, 2, 0, 2, 2, 1, 1, 1, 2, 1,\n",
       "       0, 1, 1, 0, 0, 1, 1, 1, 0, 1, 1, 1, 1, 0, 1, 0, 2, 0, 1, 0, 1, 2,\n",
       "       1, 0, 1, 1, 2, 2, 1, 1, 1, 1, 0, 1, 0, 1, 2, 1, 1, 1, 1, 1],\n",
       "      dtype=int32)"
      ]
     },
     "execution_count": 6,
     "metadata": {},
     "output_type": "execute_result"
    }
   ],
   "source": [
    "kmeans = KMeans(n_clusters=3).fit(feature_scaled)\n",
    "cluster_labels = kmeans.labels_\n",
    "\n",
    "# Add the cluster labels as a new column in the DataFrame\n",
    "data['Cluster_Labels'] = cluster_labels\n",
    "\n",
    "# Save the DataFrame with the cluster labels back to the Excel file\n",
    "data.to_excel('output.xlsx', index=False)\n",
    "\n",
    "cluster_labels"
   ]
  },
  {
   "cell_type": "markdown",
   "id": "cba26df8",
   "metadata": {},
   "source": [
    " - This is a try to find the best number of clusters in this task when we don't know how many clusters we want."
   ]
  },
  {
   "cell_type": "code",
   "execution_count": 5,
   "id": "b3a2511b",
   "metadata": {},
   "outputs": [
    {
     "data": {
      "image/png": "[encoded data removed]",
      "text/plain": [
       "<Figure size 432x288 with 1 Axes>"
      ]
     },
     "metadata": {
      "needs_background": "light"
     },
     "output_type": "display_data"
    }
   ],
   "source": [
    "sse = {}\n",
    "for k in range(1, 10):\n",
    "    kmeans = KMeans(n_clusters=k, max_iter=1000).fit(feature_scaled)\n",
    "    sse[k] = kmeans.inertia_ # Inertia: Sum of distances of samples to their closest cluster center\n",
    "plt.figure()\n",
    "plt.plot(list(sse.keys()), list(sse.values()))\n",
    "plt.xlabel(\"Number of cluster\")\n",
    "plt.ylabel(\"SSE\")\n",
    "plt.show()"
   ]
  },
  {
   "cell_type": "markdown",
   "id": "5b39706f",
   "metadata": {},
   "source": [
    "### To do: \n",
    "\n",
    "1. Some images in DSLR are a little vague, hope you can retake them.\n",
    "\n",
    "2. We need the tags for all the images.\n",
    "\n",
    "3. next step is to proceed the keyence image.\n"
   ]
  },
  {
   "cell_type": "code",
   "execution_count": null,
   "id": "001eafe3",
   "metadata": {},
   "outputs": [],
   "source": []
  }
 ],
 "metadata": {
  "kernelspec": {
   "display_name": "Python 3 (ipykernel)",
   "language": "python",
   "name": "python3"
  },
  "language_info": {
   "codemirror_mode": {
    "name": "ipython",
    "version": 3
   },
   "file_extension": ".py",
   "mimetype": "text/x-python",
   "name": "python",
   "nbconvert_exporter": "python",
   "pygments_lexer": "ipython3",
   "version": "3.7.13"
  }
 },
 "nbformat": 4,
 "nbformat_minor": 5
}
